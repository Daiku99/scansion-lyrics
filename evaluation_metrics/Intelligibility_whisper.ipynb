{
 "cells": [
  {
   "cell_type": "code",
   "execution_count": null,
   "id": "d4ef5862-4600-4e63-8c2a-f669cf20bc52",
   "metadata": {
    "scrolled": true
   },
   "outputs": [],
   "source": [
    "# install packages\n",
    "!pip install -U openai-whisper\n",
    "!pip install opencc-python-reimplemented"
   ]
  },
  {
   "cell_type": "code",
   "execution_count": 20,
   "id": "3b659303-4d15-4877-90ff-5ab0f4c1590c",
   "metadata": {},
   "outputs": [],
   "source": [
    "# load speech2text model\n",
    "import whisper\n",
    "from opencc import OpenCC\n",
    "model = whisper.load_model(\"medium\")"
   ]
  },
  {
   "cell_type": "code",
   "execution_count": 21,
   "id": "d4a341b7-89e8-486f-b24a-eca899580378",
   "metadata": {},
   "outputs": [
    {
     "name": "stdout",
     "output_type": "stream",
     "text": [
      "就是經過轉變性 遼闊的財前中風處理童話新牛連結 撫匪時差那瞬間\n"
     ]
    }
   ],
   "source": [
    "# example\n",
    "result = model.transcribe(\"output_audio_12/chatgpt/2_MixDown.wav\")\n",
    "print(result[\"text\"])"
   ]
  },
  {
   "cell_type": "code",
   "execution_count": 27,
   "id": "412f5065-5952-4260-abee-9aeada5be028",
   "metadata": {},
   "outputs": [
    {
     "data": {
      "text/plain": [
       "'就是经过转变性辽阔的财前中风处理童话新牛连结抚匪时差那瞬间'"
      ]
     },
     "execution_count": 27,
     "metadata": {},
     "output_type": "execute_result"
    }
   ],
   "source": [
    "traditional_to_simplified(result[\"text\"]).replace(\" \",\"\")"
   ]
  },
  {
   "cell_type": "code",
   "execution_count": 4,
   "id": "ca8a10db-77d4-4a39-9b0a-8bb970c18ebe",
   "metadata": {},
   "outputs": [
    {
     "name": "stdout",
     "output_type": "stream",
     "text": [
      "Directories in the folder:\n",
      "chatgpt\n",
      ".ipynb_checkpoints\n",
      "smbart_less_blc\n",
      "smbart\n",
      "songnet\n",
      "mt-based\n",
      "smbart_more_blc\n"
     ]
    }
   ],
   "source": [
    "# find directories of 6 systems\n",
    "import os\n",
    "\n",
    "def get_directories(path):\n",
    "    directories = [d for d in os.listdir(path) if os.path.isdir(os.path.join(path, d))]\n",
    "    return directories\n",
    "\n",
    "# Replace 'folder_path' with the path of the folder you want to search\n",
    "folder_path = 'output_audio_12'\n",
    "directories_in_folder = get_directories(folder_path)\n",
    "\n",
    "print(\"Directories in the folder:\")\n",
    "for directory in directories_in_folder:\n",
    "    print(directory)\n"
   ]
  },
  {
   "cell_type": "code",
   "execution_count": 43,
   "id": "743ced29-2df7-4675-af82-533c6b816391",
   "metadata": {
    "scrolled": true
   },
   "outputs": [
    {
     "name": "stdout",
     "output_type": "stream",
     "text": [
      "WAV files found:\n"
     ]
    }
   ],
   "source": [
    "# extract wav into a list\n",
    "\n",
    "import os\n",
    "\n",
    "def get_directories(path):\n",
    "    directories = [d for d in os.listdir(path) if os.path.isdir(os.path.join(path, d))]\n",
    "    return directories\n",
    "\n",
    "def get_wav_files_in_directory(directory_path):\n",
    "    wav_files = [os.path.join(directory_path, f) for f in os.listdir(directory_path) if f.endswith('.wav')]\n",
    "    return wav_files\n",
    "\n",
    "# Replace 'folder_path' with the path of the folder you want to search\n",
    "folder_path = 'output_audio_12'\n",
    "directories_in_folder = get_directories(folder_path)\n",
    "\n",
    "wav_files_list = []\n",
    "for directory in directories_in_folder:\n",
    "    directory_path = os.path.join(folder_path, directory)\n",
    "    wav_files_list.extend(get_wav_files_in_directory(directory_path))\n",
    "\n",
    "print(\"WAV files found:\")\n",
    "# for wav_file in wav_files_list:\n",
    "#     print(wav_file)\n"
   ]
  },
  {
   "cell_type": "code",
   "execution_count": 22,
   "id": "ca69b8ee-42de-4ae8-a7af-919dc10acb39",
   "metadata": {},
   "outputs": [],
   "source": [
    "# the results of speech recognition are written in Traditional Chinese\n",
    "# Convert results into simplified ones\n",
    "\n",
    "def traditional_to_simplified(traditional_text):\n",
    "    cc = OpenCC('t2s')  # 't2s' for traditional to simplified conversion\n",
    "    simplified_text = cc.convert(traditional_text)\n",
    "    return simplified_text"
   ]
  },
  {
   "cell_type": "code",
   "execution_count": 14,
   "id": "27ebac9c-5b66-4cda-a661-b65dda1fd20b",
   "metadata": {
    "scrolled": true
   },
   "outputs": [
    {
     "name": "stdout",
     "output_type": "stream",
     "text": [
      "output_audio_12/chatgpt/5_MixDown.wav 由长光影春秋年花下动生命翻城灵动月飞长柔缤纷色彩炫光眼照天空身体强健柔韧灵活力\n",
      "output_audio_12/chatgpt/11_MixDown.wav 感觉莫辞心动寂静梦想如影随心游眼里沉默了离别路雨眼睛心点闪烁光\n",
      "output_audio_12/chatgpt/8_MixDown.wav 青春时光流转看头梦的边爱情绕指尖缠绵绵画的卷蝴蝶翩翩舞动彩色的空中月亮情之肉轻盈怀香\n",
      "output_audio_12/chatgpt/7_MixDown.wav 承诺与言行心手有地心系感情似西红沉浸飞无心陷流手心握紧踏实惊心放松小翅膀飞像自由蓝天空\n",
      "output_audio_12/chatgpt/1_MixDown.wav 历经沧浪轻易孤岛流拥动深藏轻易灯火闪烁车潮草杂刚强健人肩膀住\n",
      "output_audio_12/chatgpt/3_MixDown.wav 沉醉光影心神已换其往日时光留存归眼望回应在清禅迈示行尽路记事不\n",
      "output_audio_12/chatgpt/2_MixDown.wav 故事里的故事很美世界变得更辽阔电话响了你又接了谁流星划过天际\n",
      "output_audio_12/chatgpt/4_MixDown.wav 曲土片当初解放正南朝前知应道被眼影立碑网膜广阔天空轻拉笔展\n",
      "output_audio_12/chatgpt/10_MixDown.wav 缘分相聚绵绵线上千圈练习里勇气舍得担当风雨白云有燃自在飘舞天空辣天际云飞向遥\n",
      "output_audio_12/chatgpt/6_MixDown.wav 真实里缘因离不有缘无光阴流转时刻碎念承担护福建世平台北同心春阵灵动活泼\n",
      "output_audio_12/chatgpt/9_MixDown.wav 笑容一抹春风温润生活逝去这旅程玫瑰绽放方向芬芳飘散太阳温暖照耀大地鸣\n",
      "output_audio_12/chatgpt/12_MixDown.wav 人生曲折看风孤路青青栖啦拨恋情感深阳光灿烂男男自扬心微笑满容春风柔\n",
      "output_audio_12/smbart_less_blc/9_MixDown.wav 谁的模样谁的笑容面对著邪恶生活玫瑰花谢了能把谁挽留别再哭看那太阳落了\n",
      "output_audio_12/smbart_less_blc/12_MixDown.wav 才发现漫长人生啊让心情和眼睛更鲜艳连阳光和你相互照耀给我你的微笑和\n",
      "output_audio_12/smbart_less_blc/6_MixDown.wav 却又毫无能和你的理由随时间变得好冷漠让它停泊于我们肩膀像一个孤独的孩子\n",
      "output_audio_12/smbart_less_blc/4_MixDown.wav 能陪你到任何地方每方向又遇到谁谁人躲在背影旁蓝天五彩的梦里有\n",
      "output_audio_12/smbart_less_blc/10_MixDown.wav 没缘份没工作没前来去别人啊没鼓足勇气才明白相映的白云在飘荡为什么它站在天空下\n",
      "output_audio_12/smbart_less_blc/2_MixDown.wav 故事完了还没续集让爱从眼前走来还没和你通电话以前流星划下来了\n",
      "output_audio_12/smbart_less_blc/3_MixDown.wav 让坚强的回忆飞让所有人都在记忆里拍几张还留着照片没有谁能跟出脚步\n",
      "output_audio_12/smbart_less_blc/1_MixDown.wav 没留下一句话是结局却又埋在心底从城市到山那一边难难忍\n",
      "output_audio_12/smbart_less_blc/7_MixDown.wav 还没来得及和别人的承诺是谁放不下这无情的结感情谁人能抚平谁手心的伤疤让我为你插上翅膀飞\n",
      "output_audio_12/smbart_less_blc/8_MixDown.wav 别再让那不为人人而青春别再让那不为人值得爱情谁能明白谁能让谁变成蝴蝶你看那弯弯的月亮啊\n",
      "output_audio_12/smbart_less_blc/11_MixDown.wav 谁都说著没啥感觉谁能让谁让梦想哭过笑过我也没眼泪谁说谁人没眼睛\n",
      "output_audio_12/smbart_less_blc/5_MixDown.wav 岁月蹉跎谁人能读懂懂生命之长途何时能来得风风雨雨陪我走过彩虹而快来摸摸我的身体\n",
      "output_audio_12/smbart/4_MixDown.wav 没人的地方陪你走迷迷糊糊是方向离愁只剩个背影蓝天有多光去找你\n",
      "output_audio_12/smbart/9_MixDown.wav 谁的笑容谁的缠绵面对著生活每天没有征服的玫瑰已远去就像那托福太阳的吻\n",
      "output_audio_12/smbart/6_MixDown.wav 再不能中风没你的理由时间一分一秒走来让它停在小小的肩膀童年时常幻想孩子\n",
      "output_audio_12/smbart/12_MixDown.wav 人生在识别无他求让这心情会到暖暖的迎来幸福的一束阳光把你给的微笑留\n",
      "output_audio_12/smbart/10_MixDown.wav 原来距离是爱情和缘分来的那的起勇气和执着映红了白云在飘荡蓝蓝的天和绿绿的天\n",
      "output_audio_12/smbart/2_MixDown.wav 故事中些年年蹉跎直接再没什么留还没和你通电话你难留心带不回我\n",
      "output_audio_12/smbart/1_MixDown.wav 结局已解开酒泪在流爱却埋在心底城市之痛四面八方男人还能做什么\n",
      "output_audio_12/smbart/3_MixDown.wav 将要重演的回忆就留我埋葬在记忆里翻来晃去仍是照片没有谁能跟住脚步\n",
      "output_audio_12/smbart/11_MixDown.wav 连大痛都当没感觉人来又人去梦想哭到哭完我也流眼泪别让我揉揉眼睛\n",
      "output_audio_12/smbart/5_MixDown.wav 岁月不留请谁人能了解生命在轮回谁人能了解就像云雨彩虹终究会停谁都别为我把身体扭\n",
      "output_audio_12/smbart/7_MixDown.wav 谁来疼爱诚实地许了承诺谁对谁太过分难明了谈感情碰起这手心里是爱在发烫有梦就有翅膀去翱翔\n",
      "output_audio_12/smbart/8_MixDown.wav 别让爱在青春年华流离去别让爱让爱情来如影随形像只蝴蝶停在被遗忘的地方月亮挂在晴朗的天空\n",
      "output_audio_12/songnet/4_MixDown.wav 心方向却不停转弯你可会看见我的就像拉天的背影这一次我想要地方\n",
      "output_audio_12/songnet/9_MixDown.wav 像玫瑰般温柔太阳带我到天涯海角我们俩生活一路不停靠你的笑容灿烂有瞬间\n",
      "output_audio_12/songnet/6_MixDown.wav 孩子在身上和身旁一样我们都在为他肩膀当时间又停住了时间有没有不同的理由\n",
      "output_audio_12/songnet/2_MixDown.wav 谁能像电话般接下总不是听到他说不再听你说话的世界那流星的语言\n",
      "output_audio_12/songnet/11_MixDown.wav 有梦想感觉那么好那眼睛却最明白眼泪已停不下的依赖原来早该不在乎\n",
      "output_audio_12/songnet/1_MixDown.wav 男人的心底没有道理城市孤单安静结局是错的好认真谁说一定要面对\n",
      "output_audio_12/songnet/12_MixDown.wav 一个人笑一个人生一个人心情飘在雨中你用微笑迎接阳光走我要把心情摘尽\n",
      "output_audio_12/songnet/10_MixDown.wav 这缘分是你的手足够让我着迷谁能拿给我勇气说就像白云一样来去这天空可以捉摸不定\n",
      "output_audio_12/songnet/3_MixDown.wav 风吹过记忆的黑带走了照片留下昨天走过的路留下孤单回忆的脚步那么甜\n",
      "output_audio_12/songnet/5_MixDown.wav 岁月如流转身都已降临身体如飘零也都已降临生命从我脚下划过彩虹才让我们的心更清晰\n",
      "output_audio_12/songnet/7_MixDown.wav 我们都像是一双温柔翅膀幸福来自最深处最深的感情让我们紧紧握紧你的手心保持幸福永恒的城府\n",
      "output_audio_12/songnet/8_MixDown.wav 有时候青春像蝴蝶在飞翔有时候不要问我到哪里去我等待你一去呀不会了太久在我心上是否感动你\n",
      "output_audio_12/mt-based/4_MixDown.wav 是我生我养我的地是方向是方向是背影已模糊不清蓝天上有你也有我\n",
      "output_audio_12/mt-based/11_MixDown.wav 感觉是那么的强烈梦想就在不远处眼泪是为自己而流淌闭上眼睛看一看\n",
      "output_audio_12/mt-based/9_MixDown.wav 笑容里有你也有我生活就是这么样玫瑰的香味是那么的浓太阳啊太阳我的太阳\n",
      "output_audio_12/mt-based/6_MixDown.wav 爱上你没有任何的理由时间在不停地溜走你的肩膀是那么宽广孩子啊你不要哭泣\n",
      "output_audio_12/mt-based/2_MixDown.wav 故事里的故事很美世界变得更辽阔电话响了你又接了谁流星划过天际\n",
      "output_audio_12/mt-based/1_MixDown.wav 结局却让我如此着迷心的最深的痛城市里有你也有我男人啊你听我说\n",
      "output_audio_12/mt-based/3_MixDown.wav 那些甜蜜的回忆记忆里有你有我也有照片里你笑得很甜脚步是那么的匆忙\n",
      "output_audio_12/mt-based/10_MixDown.wav 编曲李宗盛缘份让我们相遇相识相知相惜勇气是为自己鼓掌白云在天空中飘荡天空是一片蔚蓝的蓝\n",
      "output_audio_12/mt-based/5_MixDown.wav 岁月的痕迹刻在我心上生命里有你有我也有你彩虹的颜色是那么的鲜身体在不停地晃动着\n",
      "output_audio_12/mt-based/7_MixDown.wav 曾经的承诺都已随风而去感情的路上难免有太多无奈手心牵住手心牵住手心连给我一双飞翔的翅膀\n",
      "output_audio_12/mt-based/8_MixDown.wav 青春的颜色是青春的颜色爱情的路上我学会了坚强蝴蝶在空中飞舞蝴蝶在空中月亮啊月亮月亮啊月\n",
      "output_audio_12/mt-based/12_MixDown.wav 人生有太多的无奈轻轻总是不由自主的阳光的温暖照在我心你的微笑你的好\n",
      "output_audio_12/smbart_more_blc/9_MixDown.wav 谁的疲倦谁的笑容面对生活才洒脱连眼泪和过失也如玫瑰来又去都是太阳走了\n",
      "output_audio_12/smbart_more_blc/6_MixDown.wav 爱却成为谁能给的理由随时间变得好渺茫落在别人小小的肩膀和孩子一样的我们\n",
      "output_audio_12/smbart_more_blc/4_MixDown.wav 能陪你到任何地方寻不到那方向去谁来抹去个背影蓝天海阔你跟我走\n",
      "output_audio_12/smbart_more_blc/11_MixDown.wav 别再为爱而感觉累谁还为谁在梦想谁又会陪著你流眼泪哭到眼睛红又圆\n",
      "output_audio_12/smbart_more_blc/2_MixDown.wav 故事完了还没说完要让谁感觉我来谁人陪我看飞翔才吓流星划下来了\n",
      "output_audio_12/smbart_more_blc/3_MixDown.wav 那幸福的回忆中让所有埋在记忆深处为什么还留着照片这么阻挡着双脚步\n",
      "output_audio_12/smbart_more_blc/10_MixDown.wav 才能够从命中和轮回的缘分里谁没有绝望和逃离像白云围绕在天边晴朗的天空都看得见\n",
      "output_audio_12/smbart_more_blc/1_MixDown.wav 明知道注定是这结局都藏于他心底从城市到山中穿梭别和人贪心打扰\n",
      "output_audio_12/smbart_more_blc/12_MixDown.wav 谁知道漫长人生难是期待和难过的表情和阳光连着心跳加速谁能给谁微笑呢\n",
      "output_audio_12/smbart_more_blc/7_MixDown.wav 谁还能实现谁平凡的承诺是谁在埋怨这无缘的感情浓从手心写出的故事叫远行指你给了我梦的翅膀\n",
      "output_audio_12/smbart_more_blc/8_MixDown.wav 别再说爱恨情愁的时代中别让它再为谁而停的爱情来来回回在万灼蝴蝶般穿梭你看那弯弯的月亮啊\n",
      "output_audio_12/smbart_more_blc/5_MixDown.wav 岁月蹉跎情何尝能永久生命中来来回回寻烦恼风风雨雨才会看见彩虹别让谁伤了你的身体\n"
     ]
    }
   ],
   "source": [
    "wav_transcribe = dict()\n",
    "for wav_file in wav_files_list:\n",
    "    wav_file_p = wav_file.split(\"/\")\n",
    "    tmp = wav_file_p[1] + \"+\" + wav_file_p[-1].split(\"_\")[0]\n",
    "    wav_transcribe[tmp] = str()\n",
    "    result = model.transcribe(wav_file)\n",
    "    wav_transcribe[tmp] = traditional_to_simplified(result[\"text\"]).replace(\" \",\"\")\n",
    "    print(wav_file, wav_transcribe[tmp])"
   ]
  },
  {
   "cell_type": "code",
   "execution_count": null,
   "id": "2660b84f-40bf-43fd-a579-b5a92c53a7c3",
   "metadata": {},
   "outputs": [],
   "source": []
  },
  {
   "cell_type": "code",
   "execution_count": 21,
   "id": "f815d2bf-ff09-4391-baa9-422ce3ccb747",
   "metadata": {},
   "outputs": [],
   "source": [
    "model_lst = set()\n",
    "with open(\"audio2text_6_systems.txt\",\"w\") as fout:\n",
    "    fout.write(\"melody\" + \"\\t\" + \"system\" + \"\\t\" + \"recognized_text\" + \"\\n\")\n",
    "    for sys, text in wav_transcribe.items():\n",
    "        sys  = sys.split(\"+\")\n",
    "        model,melody_idx = sys[0],sys[1]\n",
    "        fout.write(melody_idx + \"\\t\" + model + \"\\t\" + text + \"\\n\")\n",
    "        model_lst.add(model)\n",
    "    "
   ]
  },
  {
   "cell_type": "code",
   "execution_count": 42,
   "id": "3f67e958-98f1-4f2e-a91f-fa15da7ad4c7",
   "metadata": {},
   "outputs": [],
   "source": [
    "model_lst = [\"chatgpt\",\"smbart_less_blc\",\"smbart\",\"songnet\",\"mt-based\",\"smbart_more_blc\"]\n",
    "audio2text = {key:{str(m): str() for m in range(1,13)} for key in model_lst}\n",
    "\n",
    "with open(\"audio2text_6_systems.txt\",\"r\") as fin:\n",
    "    for line in fin.readlines()[1:]:\n",
    "        line = line.strip()\n",
    "        line = line.split(\"\\t\")\n",
    "        melody,sys = line[0],line[1]\n",
    "        audio2text[sys][melody] = line[2]"
   ]
  },
  {
   "cell_type": "code",
   "execution_count": 43,
   "id": "6633960d-48ac-459c-a708-a8e8151b13cb",
   "metadata": {
    "scrolled": true
   },
   "outputs": [
    {
     "data": {
      "text/plain": [
       "{'chatgpt': {'1': '历经沧浪轻易孤岛流拥动深藏轻易灯火闪烁车潮草杂刚强健人肩膀住',\n",
       "  '2': '就是经过U转变性辽阔的财前中风处理童话新牛连结抚匪时差那瞬间',\n",
       "  '3': '沉醉光影心神已换其往日时光留存归眼望回应U在清禅迈示行尽路记事不',\n",
       "  '4': '曲U土片当初解放正南朝前知应道被眼影立碑网膜广阔天空轻拉笔展',\n",
       "  '5': '由长光影春秋年花下动生命翻城灵动月飞长柔缤纷色彩炫光眼照天空身体强健柔韧灵活力',\n",
       "  '6': '真实里缘因离不有缘无光阴流转时刻碎念承担护福建世平台北同心春阵灵动活泼',\n",
       "  '7': '承诺与言行心手有地心系感情似西红沉浸飞无心陷流手心握紧踏实惊心放松小翅膀飞像自由蓝天空',\n",
       "  '8': '青春时光流转看头梦的边爱情绕指尖缠绵绵画的卷蝴蝶翩翩舞U动彩色的空中月亮情之肉轻盈怀香',\n",
       "  '9': '笑容一抹春风温润生活逝去这旅程玫瑰绽放方向芬芳飘散太阳温暖照耀大地鸣',\n",
       "  '10': '缘分相聚绵绵线上千圈练习里勇气舍得担当风雨白云有燃自在飘舞天空辣天际云飞向遥',\n",
       "  '11': '感觉莫辞心动寂静梦想如影随心游眼里沉默了离别路雨眼睛心点闪烁光',\n",
       "  '12': '人生曲折看风孤路青青栖啦拨恋情感深阳光灿烂男男自扬心微笑满容春风柔'},\n",
       " 'smbart_less_blc': {'1': '没留下一句话是结局却又埋在心底从城市到山那一边UUUU难难忍',\n",
       "  '2': '故事完了还没续集让爱从眼前走来还没和你通电话以前流星划下来了',\n",
       "  '3': '让坚强的回忆飞让所有人都在记忆里拍几张还留着照片没有谁能跟出脚步',\n",
       "  '4': '能陪你到任何地方每方向又遇到谁谁人躲在背影旁蓝天五彩的梦里有',\n",
       "  '5': '岁月蹉跎谁人能读懂懂生命之长途何时能来得风风雨雨陪我走过彩虹而快来摸摸我的身体',\n",
       "  '6': '却又毫无能和你的理由随时间变得好冷漠让它停泊于我们肩膀像一个孤独的孩子',\n",
       "  '7': '还没来得及和别人的承诺是谁放不下这无情的结感情谁人能抚平谁手心的伤疤让我为你插上翅膀飞',\n",
       "  '8': '别再让那不为人人而青春别再让那不为人值得爱情谁能明白谁能让谁变成蝴蝶你看那弯弯的月亮啊',\n",
       "  '9': '谁的模样谁的笑容面对著邪恶生活玫瑰花谢了能把谁挽留别再哭看那太阳落了',\n",
       "  '10': '没缘份没工作没前来去别人啊没鼓足勇气才明白相映的白云在飘荡为什么它站在天空下',\n",
       "  '11': '谁都说著没啥感觉谁能让谁让梦想哭过笑过我也没眼泪谁说谁人没眼睛',\n",
       "  '12': '才发现漫长人生啊让心情和眼睛更鲜艳连阳光和你相互照耀给我你的微笑和'},\n",
       " 'smbart': {'1': '结局已解开酒泪在流爱却埋在心底城市之痛四面八方男人还能做什么',\n",
       "  '2': '故事中些年年蹉跎直接再没什么留还没和你通电话你难留心带不回我',\n",
       "  '3': '将要重演的回忆就留我埋葬在记忆里翻来晃去仍是照片没有谁能跟住脚步',\n",
       "  '4': '没人的地方陪你走迷迷糊糊是方向离愁只剩个背影蓝天有多光去找你',\n",
       "  '5': '岁月不留请谁人能了解生命在轮回谁人能了解就像云雨彩虹终究会停谁都别为我把身体扭',\n",
       "  '6': '再不能中风没你的理由时间一分一秒走来让它停在小小的肩膀童年时常幻想孩子',\n",
       "  '7': '谁来疼爱诚实地许了承诺谁对谁太过分难明了谈感情碰起这手心里是爱在发烫有梦就有翅膀去翱翔',\n",
       "  '8': '别让爱在青春年华流离去别让爱让爱情来如影随形像只蝴蝶停在被遗忘的地方月亮挂在晴朗的天空',\n",
       "  '9': '谁的笑容谁的缠绵面对著生活每天没有征服的玫瑰已远去就像那托福太阳的吻',\n",
       "  '10': '原来距离是爱情和缘分来的U那的起勇气和执着映红了白云在飘荡蓝蓝的天和绿绿的天',\n",
       "  '11': '连大痛都当没感觉人来又人去梦想哭到哭完我也流眼泪别让我揉揉眼睛',\n",
       "  '12': '人生在识别无他求让这心情会到暖暖的迎来幸福的一束阳光把你给的微笑留'},\n",
       " 'songnet': {'1': '男人的心底没有道理城市孤单安静结局是错的好认真谁说一定要面对',\n",
       "  '2': '谁能像电话般接下总不是听到他说不再听你说话的世界那流星的语言',\n",
       "  '3': '风吹过记忆的黑带走了照片留下昨天走过的路留下孤单回忆的脚步那么甜',\n",
       "  '4': '心方向却不停转弯你可会看见我的就像拉天的背影这一次我想要地方',\n",
       "  '5': '岁月如流转身都已降临身体如飘零也都已降临生命从我脚下划过彩虹才让我们的心更清晰',\n",
       "  '6': '孩子在身上和身旁一样我们都在为他肩膀当时间又停住了时间有没有不同的理由',\n",
       "  '7': '我们都像是一双温柔翅膀幸福来自最深处最深的感情让我们紧紧握紧你的手心保持幸福永恒的城府',\n",
       "  '8': '有时候青春像蝴蝶在飞翔有时候不要问我到哪里去我等待你一去呀不会了太久在我心上是否感动你',\n",
       "  '9': '像玫瑰般温柔太阳带我到天涯海角我们俩生活一路不停靠你的笑容灿烂有瞬间',\n",
       "  '10': '这缘分是你的手足够让我着迷谁能拿给我勇气说就像白云一样来去这天空可以捉摸不定',\n",
       "  '11': '有梦想感觉那么好那眼睛却最明白眼泪已停不下的依赖原来早该不在乎',\n",
       "  '12': '一个人笑一个人生一个人心情飘在雨中你用微笑迎接阳光走我要把心情摘尽'},\n",
       " 'mt-based': {'1': '结局却让我如此着迷心的最深的痛城市里有你也有我男人啊你听我说',\n",
       "  '2': '故事里的故事很美世界变得更辽阔电话响了你又接了谁流星划过天际',\n",
       "  '3': '那些甜蜜的回忆记忆里有你有我也有照片里你笑得很甜脚步是那么的匆忙',\n",
       "  '4': '是我生我养我的地是方向是方向是背影已模糊不清蓝天上有你也有我',\n",
       "  '5': '岁月的痕迹刻在我心上生命里有你有我也有你彩虹的颜色是那么的鲜身体在不停地晃动着',\n",
       "  '6': '爱上你没有任何的理由时间在不停地溜走你的肩膀是那么宽广孩子啊你不要哭泣',\n",
       "  '7': '曾经的承诺都已随风而去感情的路上难免有太多无奈手心牵住手心牵住手心连给我一双飞翔的翅膀',\n",
       "  '8': '青春的颜色是青春的颜色爱情的路上我学会了坚强蝴蝶在空中飞舞蝴蝶在空中月亮啊月亮月亮啊月',\n",
       "  '9': '笑容里有你也有我生活就是这么样玫瑰的香味是那么的浓太阳啊太阳我的太阳',\n",
       "  '10': '缘份让我们相遇相识相知相惜勇气是为自己鼓掌白云在天空中飘荡天空是一片蔚蓝的蓝',\n",
       "  '11': '感觉是那么的强烈梦想就在不远处眼泪是为自己而流淌闭上眼睛看一看',\n",
       "  '12': '人生有太多的无奈轻轻总是不由自主的阳光的温暖照在我心你的微笑你的好'},\n",
       " 'smbart_more_blc': {'1': '明知道注定是这结局都藏于他心底从城市到山中穿梭别和人贪心打扰',\n",
       "  '2': '故事完了还没说完要让谁感觉我来谁人陪我看飞翔才吓流星划下来了',\n",
       "  '3': '那幸福的回忆中让所有埋在记忆深处为什么还留着照片这么阻挡着双脚步',\n",
       "  '4': '能陪你到任何地方寻不到那方向去谁来抹去个背影蓝天海阔你跟我走',\n",
       "  '5': '岁月蹉跎情何尝能永久生命中来来回回寻烦恼风风雨雨才会看见彩虹别让谁伤了你的身体',\n",
       "  '6': '爱却成为谁能给的理由随时间变得好渺茫落在别人小小的肩膀和孩子一样的我们',\n",
       "  '7': '谁还能实现谁平凡的承诺是谁在埋怨这无缘的感情浓从手心写出的故事叫远行指你给了我梦的翅膀',\n",
       "  '8': '别再说爱恨情愁的时代中别让它再为谁而停的爱情来来回回在万灼蝴蝶般穿梭你看那弯弯的月亮啊',\n",
       "  '9': '谁的疲倦谁的笑容面对生活才洒脱连眼泪和过失也如玫瑰来又去都是太阳走了',\n",
       "  '10': '才能够从命中和轮回的缘分里谁没有绝望和逃离像白云围绕在天边晴朗的天空都看得见',\n",
       "  '11': '别再为爱而感觉累谁还为谁在梦想谁又会陪著你流眼泪哭到眼睛红又圆',\n",
       "  '12': '谁知道漫长人生难是期待和难过的表情和阳光连着心跳加速谁能给谁微笑呢'}}"
      ]
     },
     "execution_count": 43,
     "metadata": {},
     "output_type": "execute_result"
    }
   ],
   "source": [
    "audio2text"
   ]
  },
  {
   "cell_type": "code",
   "execution_count": 44,
   "id": "c951aa94-3baf-4819-ad1b-8e0984af41d9",
   "metadata": {},
   "outputs": [
    {
     "data": {
      "text/plain": [
       "['chatgpt',\n",
       " 'smbart_less_blc',\n",
       " 'smbart',\n",
       " 'songnet',\n",
       " 'mt-based',\n",
       " 'smbart_more_blc']"
      ]
     },
     "execution_count": 44,
     "metadata": {},
     "output_type": "execute_result"
    }
   ],
   "source": [
    "model_lst"
   ]
  },
  {
   "cell_type": "code",
   "execution_count": 45,
   "id": "93bf0d53-af57-4148-949b-a4a3496328c7",
   "metadata": {},
   "outputs": [],
   "source": [
    "generated_text = {key:{str(m): str() for m in range(1,13)} for key in model_lst}\n",
    "\n",
    "\n",
    "with open(\"6_systems_output.csv\",\"r\") as fin:\n",
    "    for line in fin.readlines()[1:]:\n",
    "        line = line.strip()\n",
    "        line = line.split(\",\")\n",
    "        melody,length, keyword, chatgpt,mt_based,songnet,sm3,less_blc,more_blc = line[0],line[1],line[2],line[3],line[4],line[5],line[6],line[7],line[8]\n",
    "        generated_text[\"smbart_more_blc\"][melody] += more_blc\n",
    "        generated_text[\"mt-based\"][melody] += mt_based\n",
    "        generated_text[\"songnet\"][melody] += songnet\n",
    "        generated_text[\"smbart\"][melody] += sm3\n",
    "        generated_text[\"chatgpt\"][melody] += chatgpt\n",
    "        generated_text[\"smbart_less_blc\"][melody] += less_blc\n",
    "        "
   ]
  },
  {
   "cell_type": "code",
   "execution_count": 46,
   "id": "77759905-8923-49d9-bfc7-3334660d2319",
   "metadata": {},
   "outputs": [],
   "source": [
    "def two_strings_diff(s1,s2):\n",
    "    count = 0\n",
    "    \n",
    "    if len(s1) == len(s2):\n",
    "        for i in range(len(s1)):\n",
    "            if s1[i] == s2[i]:\n",
    "                count += 1\n",
    "        return count/len(s1)\n",
    "    else:\n",
    "        print(\"The lenght of two strings are different!\")\n",
    "        return False"
   ]
  },
  {
   "cell_type": "code",
   "execution_count": 47,
   "id": "4fb19060-3f7e-4067-807d-31ce7e5a6b57",
   "metadata": {},
   "outputs": [
    {
     "data": {
      "text/plain": [
       "0.6666666666666666"
      ]
     },
     "execution_count": 47,
     "metadata": {},
     "output_type": "execute_result"
    }
   ],
   "source": [
    "two_strings_diff(generated_text[\"chatgpt\"][\"1\"],audio2text[\"chatgpt\"][\"1\"])"
   ]
  },
  {
   "cell_type": "code",
   "execution_count": 48,
   "id": "0c891fd0-ff28-4c59-b6cb-d8803d4a6e12",
   "metadata": {},
   "outputs": [
    {
     "data": {
      "text/plain": [
       "'历经沧浪轻易孤岛流拥动深藏轻易灯火闪烁车潮草杂刚强健人肩膀住'"
      ]
     },
     "execution_count": 48,
     "metadata": {},
     "output_type": "execute_result"
    }
   ],
   "source": [
    "audio2text[\"chatgpt\"][\"1\"]"
   ]
  },
  {
   "cell_type": "code",
   "execution_count": 49,
   "id": "58f5f8e6-8f85-4f89-9710-97d95f99518f",
   "metadata": {
    "scrolled": true
   },
   "outputs": [
    {
     "name": "stdout",
     "output_type": "stream",
     "text": [
      "chatgpt 1 0.6666666666666666\n",
      "chatgpt 2 0.4\n",
      "chatgpt 3 0.53125\n",
      "chatgpt 4 0.4\n",
      "chatgpt 5 0.7435897435897436\n",
      "chatgpt 6 0.6\n",
      "chatgpt 7 0.6046511627906976\n",
      "chatgpt 8 0.813953488372093\n",
      "chatgpt 9 0.8235294117647058\n",
      "chatgpt 10 0.7631578947368421\n",
      "chatgpt 11 0.7419354838709677\n",
      "chatgpt 12 0.6060606060606061\n",
      "smbart_less_blc 1 0.7666666666666667\n",
      "smbart_less_blc 2 1.0\n",
      "smbart_less_blc 3 0.9375\n",
      "smbart_less_blc 4 0.9333333333333333\n",
      "smbart_less_blc 5 0.9743589743589743\n",
      "smbart_less_blc 6 1.0\n",
      "smbart_less_blc 7 1.0\n",
      "smbart_less_blc 8 0.9534883720930233\n",
      "smbart_less_blc 9 0.9117647058823529\n",
      "smbart_less_blc 10 0.8421052631578947\n",
      "smbart_less_blc 11 0.967741935483871\n",
      "smbart_less_blc 12 0.9696969696969697\n",
      "smbart 1 0.9\n",
      "smbart 2 0.7333333333333333\n",
      "smbart 3 1.0\n",
      "smbart 4 0.9333333333333333\n",
      "smbart 5 0.9487179487179487\n",
      "smbart 6 0.9428571428571428\n",
      "smbart 7 0.9302325581395349\n",
      "smbart 8 1.0\n",
      "smbart 9 0.9411764705882353\n",
      "smbart 10 0.9210526315789473\n",
      "smbart 11 0.967741935483871\n",
      "smbart 12 0.9090909090909091\n",
      "songnet 1 1.0\n",
      "songnet 2 0.9\n",
      "songnet 3 1.0\n",
      "songnet 4 0.9666666666666667\n",
      "songnet 5 1.0\n",
      "songnet 6 1.0\n",
      "songnet 7 0.9534883720930233\n",
      "songnet 8 0.9767441860465116\n",
      "songnet 9 0.9705882352941176\n",
      "songnet 10 1.0\n",
      "songnet 11 0.967741935483871\n",
      "songnet 12 1.0\n",
      "mt-based 1 0.9666666666666667\n",
      "mt-based 2 1.0\n",
      "mt-based 3 0.96875\n",
      "mt-based 4 1.0\n",
      "mt-based 5 0.9743589743589743\n",
      "mt-based 6 0.9428571428571428\n",
      "mt-based 7 0.9534883720930233\n",
      "mt-based 8 1.0\n",
      "mt-based 9 1.0\n",
      "mt-based 10 0.9736842105263158\n",
      "mt-based 11 1.0\n",
      "mt-based 12 0.9393939393939394\n",
      "smbart_more_blc 1 0.9333333333333333\n",
      "smbart_more_blc 2 0.9\n",
      "smbart_more_blc 3 0.90625\n",
      "smbart_more_blc 4 1.0\n",
      "smbart_more_blc 5 1.0\n",
      "smbart_more_blc 6 1.0\n",
      "smbart_more_blc 7 0.9767441860465116\n",
      "smbart_more_blc 8 0.8837209302325582\n",
      "smbart_more_blc 9 0.9411764705882353\n",
      "smbart_more_blc 10 1.0\n",
      "smbart_more_blc 11 0.967741935483871\n",
      "smbart_more_blc 12 1.0\n"
     ]
    }
   ],
   "source": [
    "speech2text_score = {key:[] for key in model_lst}\n",
    "\n",
    "for k in generated_text.keys():\n",
    "    for i in range(1, 13):\n",
    "        truth = generated_text[k][str(i)].replace(\" \",\"\")\n",
    "        predict = audio2text[k][str(i)]\n",
    "        score = two_strings_diff(truth,predict)\n",
    "        if score:\n",
    "            print(k, i, score)\n",
    "            speech2text_score[k].append(score)\n",
    "        else:\n",
    "            print(k, i, len(truth), len(predict))\n",
    "            print(truth)\n",
    "            print(predict)\n"
   ]
  },
  {
   "cell_type": "code",
   "execution_count": 57,
   "id": "2f4596f8-d9a6-4515-823a-6ad35a4c0847",
   "metadata": {},
   "outputs": [
    {
     "name": "stdout",
     "output_type": "stream",
     "text": [
      "chatgpt 0.6412328714876936\n",
      "smbart_less_blc 0.9380546850560906\n",
      "smbart 0.9272946885936046\n",
      "songnet 0.9779357829653493\n",
      "mt-based 0.9765999421580052\n",
      "smbart_more_blc 0.9590805713070424\n"
     ]
    }
   ],
   "source": [
    "for sys, scores in speech2text_score.items():\n",
    "    print(sys,sum(scores)/len(scores))"
   ]
  },
  {
   "cell_type": "code",
   "execution_count": 50,
   "id": "b6fc8ba5-2f92-4805-8d49-287808067d46",
   "metadata": {
    "scrolled": true
   },
   "outputs": [],
   "source": [
    "with open(\"auto_whisper_score.txt\",\"w\") as fout:\n",
    "    fout.write(\"system\" + \"\\t\" + \"\\t\".join([str(x) for x in range(1,13)]) + \"\\n\")\n",
    "    for syn, intell_score in speech2text_score.items():\n",
    "        fout.write(syn + \"\\t\" + \"\\t\".join([str(x) for x in intell_score]) + \"\\n\")\n",
    "    "
   ]
  },
  {
   "cell_type": "code",
   "execution_count": 51,
   "id": "913392a4-ebdd-43e5-8f0a-bafc93fa682a",
   "metadata": {},
   "outputs": [
    {
     "name": "stdout",
     "output_type": "stream",
     "text": [
      "system\t1\t2\t3\t4\t5\t6\t7\t8\t9\t10\t11\t12\n",
      "chatgpt\t0.6666666666666666\t0.4\t0.53125\t0.4\t0.7435897435897436\t0.6\t0.6046511627906976\t0.813953488372093\t0.8235294117647058\t0.7631578947368421\t0.7419354838709677\t0.6060606060606061\n",
      "smbart_less_blc\t0.7666666666666667\t1.0\t0.9375\t0.9333333333333333\t0.9743589743589743\t1.0\t1.0\t0.9534883720930233\t0.9117647058823529\t0.8421052631578947\t0.967741935483871\t0.9696969696969697\n",
      "smbart\t0.9\t0.7333333333333333\t1.0\t0.9333333333333333\t0.9487179487179487\t0.9428571428571428\t0.9302325581395349\t1.0\t0.9411764705882353\t0.9210526315789473\t0.967741935483871\t0.9090909090909091\n",
      "songnet\t1.0\t0.9\t1.0\t0.9666666666666667\t1.0\t1.0\t0.9534883720930233\t0.9767441860465116\t0.9705882352941176\t1.0\t0.967741935483871\t1.0\n",
      "mt-based\t0.9666666666666667\t1.0\t0.96875\t1.0\t0.9743589743589743\t0.9428571428571428\t0.9534883720930233\t1.0\t1.0\t0.9736842105263158\t1.0\t0.9393939393939394\n",
      "smbart_more_blc\t0.9333333333333333\t0.9\t0.90625\t1.0\t1.0\t1.0\t0.9767441860465116\t0.8837209302325582\t0.9411764705882353\t1.0\t0.967741935483871\t1.0\n"
     ]
    }
   ],
   "source": [
    "!head auto_whisper_score.txt"
   ]
  },
  {
   "cell_type": "code",
   "execution_count": 87,
   "id": "d310b7b9-0792-43c5-b9be-75261e1e5f96",
   "metadata": {},
   "outputs": [],
   "source": [
    "from mlxtend.evaluate import permutation_test\n",
    "\n",
    "def significance_test(lst1,lst2):\n",
    "    p_value = permutation_test(lst1,lst2,method='approximate',num_rounds=10000,seed=0)\n",
    "    return p_value"
   ]
  },
  {
   "cell_type": "code",
   "execution_count": 89,
   "id": "081b3500-3c3d-47f0-858b-ba5c1062bb71",
   "metadata": {
    "scrolled": true
   },
   "outputs": [
    {
     "name": "stdout",
     "output_type": "stream",
     "text": [
      "Collecting seaborn\n",
      "  Downloading seaborn-0.13.1-py3-none-any.whl.metadata (5.4 kB)\n",
      "Requirement already satisfied: numpy!=1.24.0,>=1.20 in /home/yc429/.conda/envs/gpt2/lib/python3.8/site-packages (from seaborn) (1.24.3)\n",
      "Requirement already satisfied: pandas>=1.2 in /home/yc429/.conda/envs/gpt2/lib/python3.8/site-packages (from seaborn) (2.0.3)\n",
      "Requirement already satisfied: matplotlib!=3.6.1,>=3.4 in /home/yc429/.conda/envs/gpt2/lib/python3.8/site-packages (from seaborn) (3.7.4)\n",
      "Requirement already satisfied: contourpy>=1.0.1 in /home/yc429/.conda/envs/gpt2/lib/python3.8/site-packages (from matplotlib!=3.6.1,>=3.4->seaborn) (1.1.1)\n",
      "Requirement already satisfied: cycler>=0.10 in /home/yc429/.conda/envs/gpt2/lib/python3.8/site-packages (from matplotlib!=3.6.1,>=3.4->seaborn) (0.12.1)\n",
      "Requirement already satisfied: fonttools>=4.22.0 in /home/yc429/.conda/envs/gpt2/lib/python3.8/site-packages (from matplotlib!=3.6.1,>=3.4->seaborn) (4.44.3)\n",
      "Requirement already satisfied: kiwisolver>=1.0.1 in /home/yc429/.conda/envs/gpt2/lib/python3.8/site-packages (from matplotlib!=3.6.1,>=3.4->seaborn) (1.4.5)\n",
      "Requirement already satisfied: packaging>=20.0 in /home/yc429/.conda/envs/gpt2/lib/python3.8/site-packages (from matplotlib!=3.6.1,>=3.4->seaborn) (23.2)\n",
      "Requirement already satisfied: pillow>=6.2.0 in /home/yc429/.conda/envs/gpt2/lib/python3.8/site-packages (from matplotlib!=3.6.1,>=3.4->seaborn) (10.1.0)\n",
      "Requirement already satisfied: pyparsing>=2.3.1 in /home/yc429/.conda/envs/gpt2/lib/python3.8/site-packages (from matplotlib!=3.6.1,>=3.4->seaborn) (3.1.1)\n",
      "Requirement already satisfied: python-dateutil>=2.7 in /home/yc429/.conda/envs/gpt2/lib/python3.8/site-packages (from matplotlib!=3.6.1,>=3.4->seaborn) (2.8.2)\n",
      "Requirement already satisfied: importlib-resources>=3.2.0 in /home/yc429/.conda/envs/gpt2/lib/python3.8/site-packages (from matplotlib!=3.6.1,>=3.4->seaborn) (6.1.1)\n",
      "Requirement already satisfied: pytz>=2020.1 in /home/yc429/.conda/envs/gpt2/lib/python3.8/site-packages (from pandas>=1.2->seaborn) (2023.3.post1)\n",
      "Requirement already satisfied: tzdata>=2022.1 in /home/yc429/.conda/envs/gpt2/lib/python3.8/site-packages (from pandas>=1.2->seaborn) (2023.3)\n",
      "Requirement already satisfied: zipp>=3.1.0 in /home/yc429/.conda/envs/gpt2/lib/python3.8/site-packages (from importlib-resources>=3.2.0->matplotlib!=3.6.1,>=3.4->seaborn) (3.17.0)\n",
      "Requirement already satisfied: six>=1.5 in /home/yc429/.conda/envs/gpt2/lib/python3.8/site-packages (from python-dateutil>=2.7->matplotlib!=3.6.1,>=3.4->seaborn) (1.16.0)\n",
      "Downloading seaborn-0.13.1-py3-none-any.whl (294 kB)\n",
      "\u001b[2K   \u001b[90m━━━━━━━━━━━━━━━━━━━━━━━━━━━━━━━━━━━━━━━━\u001b[0m \u001b[32m294.8/294.8 kB\u001b[0m \u001b[31m8.1 MB/s\u001b[0m eta \u001b[36m0:00:00\u001b[0mta \u001b[36m0:00:01\u001b[0m\n",
      "\u001b[?25hInstalling collected packages: seaborn\n",
      "Successfully installed seaborn-0.13.1\n"
     ]
    }
   ],
   "source": [
    "!pip install seaborn"
   ]
  },
  {
   "cell_type": "code",
   "execution_count": 58,
   "id": "05833bf0-553a-4ec5-8224-df600bfd7765",
   "metadata": {},
   "outputs": [
    {
     "data": {
      "text/plain": [
       "{'chatgpt': [0.6666666666666666,\n",
       "  0.4,\n",
       "  0.53125,\n",
       "  0.4,\n",
       "  0.7435897435897436,\n",
       "  0.6,\n",
       "  0.6046511627906976,\n",
       "  0.813953488372093,\n",
       "  0.8235294117647058,\n",
       "  0.7631578947368421,\n",
       "  0.7419354838709677,\n",
       "  0.6060606060606061],\n",
       " 'smbart_less_blc': [0.7666666666666667,\n",
       "  1.0,\n",
       "  0.9375,\n",
       "  0.9333333333333333,\n",
       "  0.9743589743589743,\n",
       "  1.0,\n",
       "  1.0,\n",
       "  0.9534883720930233,\n",
       "  0.9117647058823529,\n",
       "  0.8421052631578947,\n",
       "  0.967741935483871,\n",
       "  0.9696969696969697],\n",
       " 'smbart': [0.9,\n",
       "  0.7333333333333333,\n",
       "  1.0,\n",
       "  0.9333333333333333,\n",
       "  0.9487179487179487,\n",
       "  0.9428571428571428,\n",
       "  0.9302325581395349,\n",
       "  1.0,\n",
       "  0.9411764705882353,\n",
       "  0.9210526315789473,\n",
       "  0.967741935483871,\n",
       "  0.9090909090909091],\n",
       " 'songnet': [1.0,\n",
       "  0.9,\n",
       "  1.0,\n",
       "  0.9666666666666667,\n",
       "  1.0,\n",
       "  1.0,\n",
       "  0.9534883720930233,\n",
       "  0.9767441860465116,\n",
       "  0.9705882352941176,\n",
       "  1.0,\n",
       "  0.967741935483871,\n",
       "  1.0],\n",
       " 'mt-based': [0.9666666666666667,\n",
       "  1.0,\n",
       "  0.96875,\n",
       "  1.0,\n",
       "  0.9743589743589743,\n",
       "  0.9428571428571428,\n",
       "  0.9534883720930233,\n",
       "  1.0,\n",
       "  1.0,\n",
       "  0.9736842105263158,\n",
       "  1.0,\n",
       "  0.9393939393939394],\n",
       " 'smbart_more_blc': [0.9333333333333333,\n",
       "  0.9,\n",
       "  0.90625,\n",
       "  1.0,\n",
       "  1.0,\n",
       "  1.0,\n",
       "  0.9767441860465116,\n",
       "  0.8837209302325582,\n",
       "  0.9411764705882353,\n",
       "  1.0,\n",
       "  0.967741935483871,\n",
       "  1.0]}"
      ]
     },
     "execution_count": 58,
     "metadata": {},
     "output_type": "execute_result"
    }
   ],
   "source": [
    "speech2text_score"
   ]
  },
  {
   "cell_type": "code",
   "execution_count": 53,
   "id": "8fc34994-b731-4c63-aec9-a8df991ffa39",
   "metadata": {},
   "outputs": [
    {
     "data": {
      "image/png": "[encoded data removed]",
      "text/plain": [
       "<Figure size 640x480 with 2 Axes>"
      ]
     },
     "metadata": {},
     "output_type": "display_data"
    }
   ],
   "source": [
    "import matplotlib.pyplot as plt\n",
    "import seaborn as sns\n",
    "import pandas as pd\n",
    "from mlxtend.evaluate import permutation_test\n",
    "import numpy as np\n",
    "\n",
    "# Your dictionary of lists\n",
    "data = speech2text_score  # Replace this with your dictionary\n",
    "\n",
    "# Function for permutation test\n",
    "def significance_test(lst1, lst2):\n",
    "    p_value = permutation_test(lst1, lst2, method='approximate', num_rounds=10000, seed=0)\n",
    "    return p_value\n",
    "\n",
    "# Compute permutation test for each pair of lists in the dictionary\n",
    "results = {}\n",
    "for k1, v1 in data.items():\n",
    "    results_row = []\n",
    "    for k2, v2 in data.items():\n",
    "        p_value = significance_test(v1, v2)\n",
    "        results_row.append(p_value)\n",
    "    results[k1] = results_row\n",
    "\n",
    "list_names = [\"smBART + BLC\",\"MT-based\",\"smBART\",\"SongNet\",\"ChatGPT\",\"smBART - BLC\"]\n",
    "\n",
    "# Create a DataFrame from the results\n",
    "df = pd.DataFrame(results, index=data.keys())\n",
    "\n",
    "# Mask values strictly above the diagonal\n",
    "mask = np.triu(np.ones(df.shape), k=1).astype(bool)\n",
    "df = df.mask(mask)\n",
    "\n",
    "# Plot heatmap\n",
    "sns.heatmap(df, annot=True, fmt=\".2f\", cmap='YlGnBu')\n",
    "\n",
    "# Set labels for each axis\n",
    "plt.xticks(np.arange(len(list_names)) + 0.5, list_names, rotation=45, fontsize=12)\n",
    "plt.yticks(np.arange(len(list_names)) + 0.5, list_names, rotation=45, fontsize=12)\n",
    "\n",
    "\n",
    "# Save the plot as an image (e.g., PNG, PDF, SVG, etc.)\n",
    "plt.savefig('significance_whisper.png', dpi=300, bbox_inches='tight')\n",
    "\n",
    "# Show the plot\n",
    "plt.show()\n",
    "\n",
    "\n",
    "\n"
   ]
  },
  {
   "cell_type": "code",
   "execution_count": 29,
   "id": "d3788867-1364-4dc3-9255-abe3f323ace0",
   "metadata": {},
   "outputs": [],
   "source": [
    "with open(\"audio2text_6_systems.txt\",\"w\") as fout:\n",
    "    fout.write(\"melody\" + \"\\t\" + \"system\" + \"\\t\" + \"recognized_text\" + \"\\n\")\n",
    "    for system, res in wav_transcribe.items():\n",
    "        tmp = extract_numbers(system) + \"\\t\" +extract_letters_and_punctuation(system) + \"\\t\" + res + \"\\n\"\n",
    "        fout.write(tmp)"
   ]
  },
  {
   "cell_type": "code",
   "execution_count": 30,
   "id": "0027ae39-8943-496c-8a64-38525d40840f",
   "metadata": {},
   "outputs": [
    {
     "name": "stdout",
     "output_type": "stream",
     "text": [
      "melody\tsystem\trecognized_text\n",
      "5\tchatgpt\t由长光影春秋年花下动生命翻城灵动月飞长柔缤纷色彩炫光眼照天空身体强健柔韧灵活力\n",
      "11\tchatgpt\t感觉莫辞心动寂静梦想如影随心游眼里沉默了离别路雨眼睛心点闪烁光\n",
      "8\tchatgpt\t青春时光流转看头梦的边爱情绕指尖缠绵绵画的卷蝴蝶翩翩舞动彩色的空中月亮情之肉轻盈怀香\n",
      "7\tchatgpt\t承诺与言行心手有地心系感情似西红沉浸飞无心陷流手心握紧踏实惊心放松小翅膀飞像自由蓝天空\n",
      "1\tchatgpt\t历经沧浪轻易孤岛流拥动深藏轻易灯火闪烁车潮草杂刚强健人肩膀住\n",
      "3\tchatgpt\t沉醉光影心神已换其往日时光留存归眼望回应在清禅迈示行尽路记事不\n",
      "2\tchatgpt\t故事里的故事很美世界变得更辽阔电话响了你又接了谁流星划过天际\n",
      "4\tchatgpt\t曲土片当初解放正南朝前知应道被眼影立碑网膜广阔天空轻拉笔展\n",
      "10\tchatgpt\t缘分相聚绵绵线上千圈练习里勇气舍得担当风雨白云悠然自在飘舞天空拉天际云飞向摇\n"
     ]
    }
   ],
   "source": [
    "!head audio2text_6_systems.txt"
   ]
  },
  {
   "cell_type": "code",
   "execution_count": 18,
   "id": "a2887b64-1639-4b80-bed7-68698e5259d2",
   "metadata": {
    "scrolled": true
   },
   "outputs": [
    {
     "data": {
      "text/plain": [
       "{'chatgpt5': '由长光影春秋年花下动生命翻城灵动月飞长柔缤纷色彩炫光眼照天空身体强健柔韧灵活力',\n",
       " 'chatgpt11': '感觉莫辞心动寂静梦想如影随心游眼里沉默了离别路雨眼睛心点闪烁光',\n",
       " 'chatgpt8': '青春时光流转看头梦的边爱情绕指尖缠绵绵画的卷蝴蝶翩翩舞动彩色的空中月亮情之肉轻盈怀香',\n",
       " 'chatgpt7': '承诺与言行心手有地心系感情似西红沉浸飞无心陷流手心握紧踏实惊心放松小翅膀飞像自由蓝天空',\n",
       " 'chatgpt1': '历经沧浪轻易孤岛流拥动深藏轻易灯火闪烁车潮草杂刚强健人肩膀住',\n",
       " 'chatgpt3': '沉醉光影心神已换其往日时光留存归眼望回应在清禅迈示行尽路记事不',\n",
       " 'chatgpt2': '故事里的故事很美世界变得更辽阔电话响了你又接了谁流星划过天际',\n",
       " 'chatgpt4': '曲土片当初解放正南朝前知应道被眼影立碑网膜广阔天空轻拉笔展',\n",
       " 'chatgpt10': '缘分相聚绵绵献上千千恋系利用其舍得担当风雨白云悠然自在飘舞天空啦天际云飞向遥',\n",
       " 'chatgpt6': '真实里缘因离不有缘无光阴流转时刻碎念承担护福建世平台北同心春阵灵动活泼',\n",
       " 'chatgpt9': '笑容一抹春风温润生活逝去这旅程玫瑰绽放方向芬芳飘散太阳温暖照耀大地鸣',\n",
       " 'chatgpt12': '人生曲折看风孤路青青栖啦拨恋情感深阳光灿烂男男自扬心微笑满容春风柔',\n",
       " 'smbart_less_blc9': '谁的模样谁的笑容面对著邪恶生活玫瑰花谢了能把谁挽留别再哭看那太阳落了',\n",
       " 'smbart_less_blc12': '才发现漫长人生啊让心情和眼睛更鲜艳连阳光和你相互照耀给我你的微笑和',\n",
       " 'smbart_less_blc6': '却又毫无能和你的理由随时间变得好冷漠让它停泊于我们肩膀像一个孤独的孩子',\n",
       " 'smbart_less_blc4': '能陪你到任何地方每方向又遇到谁谁人躲在背影旁蓝天五彩的梦里有',\n",
       " 'smbart_less_blc10': '没缘份没工作没前来去别人啊没鼓足勇气才明白相映的白云在飘荡为什么它站在天空下',\n",
       " 'smbart_less_blc2': '故事完了还没续集让爱从眼前走来还没和你通电话以前流星划下来了',\n",
       " 'smbart_less_blc3': '让坚强的回忆飞让所有人都在记忆里拍几张还留着照片没有谁能跟出脚步',\n",
       " 'smbart_less_blc1': '没留下一句话是结局却又埋在心底从城市到山那一边难难忍',\n",
       " 'smbart_less_blc7': '还没来得及和别人的承诺是谁放不下这无情的结感情谁人能抚平谁手心的伤疤让我为你插上翅膀飞',\n",
       " 'smbart_less_blc8': '别再让那不为人人而青春别再让那不为人值得爱情谁能明白谁能让谁变成蝴蝶你看那弯弯的月亮啊',\n",
       " 'smbart_less_blc11': '谁都说著没啥感觉谁能让谁让梦想哭过笑过我也没眼泪谁说谁人没眼睛',\n",
       " 'smbart_less_blc5': '岁月蹉跎谁人能读懂懂生命之长途何时能来得风风雨雨陪我走过彩虹而快来摸摸我的身体',\n",
       " 'smbart4': '没人的地方陪你走迷迷糊糊是方向离愁只剩个背影蓝天有多光去找你',\n",
       " 'smbart9': '谁的笑容谁的缠绵面对著生活每天没有征服的玫瑰已远去就像那托福太阳的吻',\n",
       " 'smbart6': '再不能中风没你的理由时间一分一秒走来让它停在小小的肩膀童年时常幻想孩子',\n",
       " 'smbart12': '人生在识别无他求让这心情会到暖暖的迎来幸福的一束阳光把你给的微笑留',\n",
       " 'smbart10': '原来距离是爱情和缘分来的那的起勇气和执着映红了白云在飘荡蓝蓝的天和绿绿的天',\n",
       " 'smbart2': '故事中些年年蹉跎直接再没什么留还没和你通电话你难留心带不回我',\n",
       " 'smbart1': '结局已解开酒泪在流爱却埋在心底城市之痛四面八方男人还能做什么',\n",
       " 'smbart3': '将要重演的回忆就留我埋葬在记忆里翻来晃去仍是照片没有谁能跟住脚步',\n",
       " 'smbart11': '连大痛都当没感觉人来又人去梦想哭到哭完我也流眼泪别让我揉揉眼睛',\n",
       " 'smbart5': '岁月不留请谁人能了解生命在轮回谁人能了解就像云雨彩虹终究会停谁都别为我把身体扭',\n",
       " 'smbart7': '谁来疼爱诚实地许了承诺谁对谁太过分难明了谈感情碰起这手心里是爱在发烫有梦就有翅膀去翱翔',\n",
       " 'smbart8': '别让爱在青春年华流离去别让爱让爱情来如影随形像只蝴蝶停在被遗忘的地方月亮挂在晴朗的天空',\n",
       " 'songnet4': '心方向却不停转弯你可会看见我的就像拉天的背影这一次我想要地方',\n",
       " 'songnet9': '像玫瑰般温柔太阳带我到天涯海角我们俩生活一路不停靠你的笑容灿烂有瞬间',\n",
       " 'songnet6': '孩子在身上和身旁一样我们都在为他肩膀当时间又停住了时间有没有不同的理由',\n",
       " 'songnet2': '谁能像电话般接下总不是听到他说不再听你说话的世界那流星的语言',\n",
       " 'songnet11': '有梦想感觉那么好那眼睛却最明白眼泪已停不下的依赖原来早该不在乎',\n",
       " 'songnet1': '男人的心底没有道理城市孤单安静结局是错的好认真谁说一定要面对',\n",
       " 'songnet12': '一个人笑一个人生一个人心情飘在雨中你用微笑迎接阳光走我要把心情摘尽',\n",
       " 'songnet10': '这缘分是你的手足够让我着迷谁能拿给我勇气说就像白云一样来去这天空可以捉摸不定',\n",
       " 'songnet3': '风吹过记忆的黑带走了照片留下昨天走过的路留下孤单回忆的脚步那么甜',\n",
       " 'songnet5': '岁月如流转身都已降临身体如飘零也都已降临生命从我脚下划过彩虹才让我们的心更清晰',\n",
       " 'songnet7': '我们都像是一双温柔翅膀幸福来自最深处最深的感情让我们紧紧握紧你的手心保持幸福永恒的城府',\n",
       " 'songnet8': '有时候青春像蝴蝶在飞翔有时候不要问我到哪里去我等待你一去呀不会了太久在我心上是否感动你',\n",
       " 'mt-based4': '是我生我养我的地是方向是方向是背影已模糊不清蓝天上有你也有我',\n",
       " 'mt-based11': '感觉是那么的强烈梦想就在不远处眼泪是为自己而流淌闭上眼睛看一看',\n",
       " 'mt-based9': '笑容里有你也有我生活就是这么样玫瑰的香味是那么的浓太阳啊太阳我的太阳',\n",
       " 'mt-based6': '爱上你没有任何的理由时间在不停地溜走你的肩膀是那么宽广孩子啊你不要哭泣',\n",
       " 'mt-based2': '故事里的故事很美世界变得更辽阔电话响了你又接了谁流星划过天际',\n",
       " 'mt-based1': '结局却让我如此着迷心的最深的痛城市里有你也有我男人啊你听我说',\n",
       " 'mt-based3': '那些甜蜜的回忆记忆里有你有我也有照片里你笑得很甜脚步是那么的匆忙',\n",
       " 'mt-based10': '缘分让我们相遇相识相知相惜勇气是为自己鼓掌白云在天空中飘荡天空是一片蔚蓝的蓝',\n",
       " 'mt-based5': '岁月的痕迹刻在我心上生命里有你有我也有你彩虹的颜色是那么的鲜身体在不停地晃动着',\n",
       " 'mt-based7': '曾经的承诺都已随风而去感情的路上难免有太多无奈手心牵住手心牵住手心连给我一双飞翔的翅膀',\n",
       " 'mt-based8': '青春的颜色是青春的颜色爱情的路上我学会了坚强蝴蝶在空中飞舞蝴蝶在空中月亮啊月亮月亮啊月',\n",
       " 'mt-based12': '人生有太多的无奈轻轻总是不由自主的阳光的温暖照在我心你的微笑你的好',\n",
       " 'smbart_more_blc9': '谁的疲倦谁的笑容面对生活才洒脱连眼泪和过失也如玫瑰来又去都是太阳走了',\n",
       " 'smbart_more_blc6': '爱却成为谁能给的理由随时间变得好渺茫落在别人小小的肩膀和孩子一样的我们',\n",
       " 'smbart_more_blc4': '能陪你到任何地方寻不到那方向去谁来抹去个背影蓝天海阔你跟我走',\n",
       " 'smbart_more_blc11': '别再为爱而感觉累谁还为谁在梦想谁又会陪著你流眼泪哭到眼睛红又圆',\n",
       " 'smbart_more_blc2': '故事完了还没说完要让谁感觉我来谁人陪我看飞翔才吓流星划下来了',\n",
       " 'smbart_more_blc3': '那幸福的回忆中让所有埋在记忆深处为什么还留着照片这么阻挡着双脚步',\n",
       " 'smbart_more_blc10': '才能够从命中和轮回的缘分里谁没有绝望和逃离像白云围绕在天边晴朗的天空都看得见',\n",
       " 'smbart_more_blc1': '明知道注定是这结局都藏于他心底从城市到山中穿梭别和人贪心打扰',\n",
       " 'smbart_more_blc12': '谁知道漫长人生难是期待和难过的表情和阳光连着心跳加速谁能给谁微笑呢',\n",
       " 'smbart_more_blc7': '谁还能实现谁平凡的承诺是谁在埋怨这无缘的感情浓从手心写出的故事叫远行指你给了我梦的翅膀',\n",
       " 'smbart_more_blc8': '别再说爱恨情愁的时代中别让它再为谁而停的爱情来来回回在万灼蝴蝶般穿梭你看那弯弯的月亮啊',\n",
       " 'smbart_more_blc5': '岁月蹉跎情何尝能永久生命中来来回回寻烦恼风风雨雨才会看见彩虹别让谁伤了你的身体'}"
      ]
     },
     "execution_count": 18,
     "metadata": {},
     "output_type": "execute_result"
    }
   ],
   "source": [
    "wav_transcribe"
   ]
  },
  {
   "cell_type": "code",
   "execution_count": 39,
   "id": "478a2130-d24b-4048-a6b6-3a14dc97e5d9",
   "metadata": {},
   "outputs": [
    {
     "name": "stdout",
     "output_type": "stream",
     "text": [
      "Data in the desired format:\n",
      "{'Melody': '1', 'Length': '9', 'Keyword': '结局', 'Chatgpt': '历经沧浪情依孤岛留', 'MT-based': '结局却让我如此着迷', 'SongNet': '男人的心底没有道理', 'smBART3_4_line': '结局一揭开就泪在流', 'less_BLC_4_line': '没留下一句话是结局', 'more_BLC_4_line': '明知道注定是这结局'}\n",
      "{'Melody': '1', 'Length': '6', 'Keyword': '心底', 'Chatgpt': '涌动深藏情意', 'MT-based': '心底最深的痛', 'SongNet': '城市孤单安静', 'smBART3_4_line': '爱却埋在心底', 'less_BLC_4_line': '却又埋在心底', 'more_BLC_4_line': '都藏于她心底'}\n",
      "{'Melody': '1', 'Length': '8', 'Keyword': '城市', 'Chatgpt': '灯火闪烁车潮嘈杂', 'MT-based': '城市里有你也有我', 'SongNet': '结局是错的好认真', 'smBART3_4_line': '城市之痛四面八方', 'less_BLC_4_line': '从城市到山那一边', 'more_BLC_4_line': '从城市到山中穿梭'}\n",
      "{'Melody': '1', 'Length': '7', 'Keyword': '男人', 'Chatgpt': '刚强坚韧肩膀铸', 'MT-based': '男人啊你听我说', 'SongNet': '谁说一定要面对', 'smBART3_4_line': '男人还能做什么', 'less_BLC_4_line': '哦哦哦哦男男人', 'more_BLC_4_line': '别和人谈心打扰'}\n",
      "{'Melody': '2', 'Length': '8', 'Keyword': '故事', 'Chatgpt': '旧事经过而转变新', 'MT-based': '故事里的故事很美', 'SongNet': '谁能像电话般接下', 'smBART3_4_line': '故事重写年年蹉跎', 'less_BLC_4_line': '故事完了还没续集', 'more_BLC_4_line': '故事完了还没说完'}\n",
      "{'Melody': '2', 'Length': '7', 'Keyword': '世界', 'Chatgpt': '辽阔多彩千种风', 'MT-based': '世界变得更辽阔', 'SongNet': '从故事听到他说', 'smBART3_4_line': '世界再没什么留', 'less_BLC_4_line': '让爱从眼前走来', 'more_BLC_4_line': '要让谁感觉我来'}\n",
      "{'Melody': '2', 'Length': '9', 'Keyword': '电话', 'Chatgpt': '疏离通话心纽连接符', 'MT-based': '电话响了你又接了谁', 'SongNet': '不再听你说话的世界', 'smBART3_4_line': '还没和你通电话呢喃', 'less_BLC_4_line': '还没和你通电话以前', 'more_BLC_4_line': '谁人陪我看飞翔彩霞'}\n",
      "{'Melody': '2', 'Length': '6', 'Keyword': '流星', 'Chatgpt': '飞逝刹那瞬间', 'MT-based': '流星划过天际', 'SongNet': '那流星的语言', 'smBART3_4_line': '流星带不回我', 'less_BLC_4_line': '流星划下来了', 'more_BLC_4_line': '流星划下来啦'}\n",
      "{'Melody': '3', 'Length': '7', 'Keyword': '回忆', 'Chatgpt': '沉醉光影心深溢', 'MT-based': '那些甜蜜的回忆', 'SongNet': '风吹过记忆的黑', 'smBART3_4_line': '将要重演的回忆', 'less_BLC_4_line': '让坚强的回忆飞', 'more_BLC_4_line': '那幸福的回忆中'}\n",
      "{'Melody': '3', 'Length': '9', 'Keyword': '记忆', 'Chatgpt': '唤起往日时光留存轨', 'MT-based': '记忆里有你有我也有', 'SongNet': '带走了照片留下昨天', 'smBART3_4_line': '就留我埋葬在记忆里', 'less_BLC_4_line': '让所有人都在记忆里', 'more_BLC_4_line': '让所有埋在记忆深处'}\n",
      "{'Melody': '3', 'Length': '8', 'Keyword': '照片', 'Chatgpt': '眼望回忆印载情缠', 'MT-based': '照片里你笑的很甜', 'SongNet': '走过的路留下孤单', 'smBART3_4_line': '翻来晃去仍是照片', 'less_BLC_4_line': '拍几张还留这照片', 'more_BLC_4_line': '为什么还留这照片'}\n",
      "{'Melody': '3', 'Length': '8', 'Keyword': '脚步', 'Chatgpt': '迈势行进路疾驶步', 'MT-based': '脚步是那么的匆忙', 'SongNet': '回忆的脚步那么甜', 'smBART3_4_line': '没有谁能跟住脚步', 'less_BLC_4_line': '没有谁能跟住脚步', 'more_BLC_4_line': '什么阻挡这双脚步'}\n",
      "{'Melody': '4', 'Length': '8', 'Keyword': '地方', 'Chatgpt': '区域土片当处界方', 'MT-based': '是我生我养我的地', 'SongNet': '心方向却不停转弯', 'smBART3_4_line': '没人的地方陪你走', 'less_BLC_4_line': '能陪你到任何地方', 'more_BLC_4_line': '能陪你到任何地方'}\n",
      "{'Melody': '4', 'Length': '7', 'Keyword': '方向', 'Chatgpt': '正南朝前指引导', 'MT-based': '是方向是方向是', 'SongNet': '你可会看见我的', 'smBART3_4_line': '迷迷糊糊失方向', 'less_BLC_4_line': '没方向又遇到谁', 'more_BLC_4_line': '寻不到那方向去'}\n",
      "{'Melody': '4', 'Length': '7', 'Keyword': '背影', 'Chatgpt': '悲咽影离背望漠', 'MT-based': '背影已模糊不清', 'SongNet': '就像蓝天的背影', 'smBART3_4_line': '离愁只剩个背影', 'less_BLC_4_line': '谁人躲在背影旁', 'more_BLC_4_line': '谁来抹去个背影'}\n",
      "{'Melody': '4', 'Length': '8', 'Keyword': '蓝天', 'Chatgpt': '广阔天空青蓝碧湛', 'MT-based': '蓝天上有你也有我', 'SongNet': '这一次我想要地方', 'smBART3_4_line': '蓝天有多广去找你', 'less_BLC_4_line': '蓝天五彩的梦里游', 'more_BLC_4_line': '蓝天海阔你跟我走'}\n",
      "{'Melody': '5', 'Length': '10', 'Keyword': '岁月', 'Chatgpt': '悠长光阴春秋年花夏冬', 'MT-based': '岁月的痕迹刻在我心上', 'SongNet': '岁月如流转身都已降临', 'smBART3_4_line': '岁月不留情谁人能了解', 'less_BLC_4_line': '岁月蹉跎谁人能读懂懂', 'more_BLC_4_line': '岁月蹉跎情何尝能永久'}\n",
      "{'Melody': '5', 'Length': '10', 'Keyword': '生命', 'Chatgpt': '生命繁盛灵动跃飞长荣', 'MT-based': '生命里有你有我也有你', 'SongNet': '身体如飘零也都已降临', 'smBART3_4_line': '生命在轮回谁人能了解', 'less_BLC_4_line': '生命之长途何时能来得', 'more_BLC_4_line': '生命中来来回回寻烦恼'}\n",
      "{'Melody': '5', 'Length': '10', 'Keyword': '彩虹', 'Chatgpt': '缤纷色彩绚光艳照天空', 'MT-based': '彩虹的颜色是那么的鲜', 'SongNet': '生命从我脚下划过彩虹', 'smBART3_4_line': '就像云与彩虹终究会停', 'less_BLC_4_line': '风风雨雨陪我走过彩虹', 'more_BLC_4_line': '风风雨雨才会看见彩虹'}\n",
      "{'Melody': '5', 'Length': '9', 'Keyword': '身体', 'Chatgpt': '身体强健柔韧灵活力', 'MT-based': '身体在不停的晃动着', 'SongNet': '才让我们的心更清晰', 'smBART3_4_line': '谁都别为我把身体扭', 'less_BLC_4_line': '哦快来摸摸我的身体', 'more_BLC_4_line': '别让谁伤了你的身体'}\n",
      "{'Melody': '6', 'Length': '10', 'Keyword': '理由', 'Chatgpt': '真实立缘因理不由原无', 'MT-based': '爱上你没有任何的理由', 'SongNet': '孩子在身上和身旁一样', 'smBART3_4_line': '再不能重逢没你的理由 ', 'less_BLC_4_line': '却又毫无能和你的理由', 'more_BLC_4_line': '爱却成为谁能给的理由'}\n",
      "{'Melody': '6', 'Length': '8', 'Keyword': '时间', 'Chatgpt': '光阴流转时刻岁年', 'MT-based': '时间在不停的流走', 'SongNet': '我们都在为他肩膀', 'smBART3_4_line': '时间一分一秒走来', 'less_BLC_4_line': '随时间变得好冷漠', 'more_BLC_4_line': '随时间变得好渺茫'}\n",
      "{'Melody': '6', 'Length': '9', 'Keyword': '肩膀', 'Chatgpt': '承担互扶坚实平台背', 'MT-based': '你的肩膀是那么宽广', 'SongNet': '当时间又停住了时间', 'smBART3_4_line': '让它停在小小的肩膀', 'less_BLC_4_line': '让它停泊于我们肩膀', 'more_BLC_4_line': '落在别人小小的肩膀'}\n",
      "{'Melody': '6', 'Length': '8', 'Keyword': '孩子', 'Chatgpt': '童心纯真灵动活泼', 'MT-based': '孩子啊你不要哭泣', 'SongNet': '有没有不同的理由', 'smBART3_4_line': '童年时常幻想孩子', 'less_BLC_4_line': '像一个孤独的孩子', 'more_BLC_4_line': '和孩子一样的我们'}\n",
      "{'Melody': '7', 'Length': '11', 'Keyword': '承诺', 'Chatgpt': '承诺语言信心守邮递信息', 'MT-based': '曾经的承诺都已随风而去', 'SongNet': '我们都像是一双温柔翅膀', 'smBART3_4_line': '谁来疼爱诚实得许了承诺', 'less_BLC_4_line': '还没来得及和别人的承诺', 'more_BLC_4_line': '谁还能实现谁平凡的承诺'}\n",
      "{'Melody': '7', 'Length': '12', 'Keyword': '感情', 'Chatgpt': '感情丝系红尘间飞舞心弦流', 'MT-based': '感情的路上难免有太多无奈', 'SongNet': '幸福来自最深处最深的感情', 'smBART3_4_line': '谁对谁太过份难明了谈感情', 'less_BLC_4_line': '是谁放不下这无情的结感情', 'more_BLC_4_line': '是谁在埋怨这无缘的感情浓'}\n",
      "{'Melody': '7', 'Length': '11', 'Keyword': '手心', 'Chatgpt': '手心握紧踏实进行放松笑', 'MT-based': '手心牵着手心牵着手心连', 'SongNet': '让我们紧紧握紧你的手心', 'smBART3_4_line': '捧起这手心里是爱在发烫', 'less_BLC_4_line': '谁人能抚平谁手心的伤疤', 'more_BLC_4_line': '从手心写出的故事叫远行'}\n",
      "{'Melody': '7', 'Length': '9', 'Keyword': '翅膀', 'Chatgpt': '翅膀飞翔自由蓝天空', 'MT-based': '给我一双飞翔的翅膀', 'SongNet': '保持幸福永恒的承抚', 'smBART3_4_line': '有梦就有翅膀去翱翔', 'less_BLC_4_line': '让我为你插上翅膀飞', 'more_BLC_4_line': '是你给了我梦的翅膀'}\n",
      "{'Melody': '8', 'Length': '11', 'Keyword': '青春', 'Chatgpt': '青春时光流转看透梦的边', 'MT-based': '青春的颜色是青春的颜色', 'SongNet': '有时候青春像蝴蝶在飞翔', 'smBART3_4_line': '别让爱在青春年华流离去', 'less_BLC_4_line': '别再让那不为人人而青春', 'more_BLC_4_line': '别在说爱恨情仇的时代中'}\n",
      "{'Melody': '8', 'Length': '11', 'Keyword': '爱情', 'Chatgpt': '爱情绕指尖缠绵绵花的圈', 'MT-based': '爱情的路上我学会了坚强', 'SongNet': '有时候不要问我到哪里去', 'smBART3_4_line': '别让爱让爱情来如影随形', 'less_BLC_4_line': '别再让那不为人知的爱情', 'more_BLC_4_line': '别让它在为谁而停的爱情'}\n",
      "{'Melody': '8', 'Length': '12', 'Keyword': '蝴蝶', 'Chatgpt': '蝴蝶翩翩舞舞动彩色的空中', 'MT-based': '蝴蝶在空中飞舞蝴蝶在空中', 'SongNet': '我等待你一去呀不回了太久', 'smBART3_4_line': '像只蝴蝶停在被遗忘的地方', 'less_BLC_4_line': '谁能明白谁能让谁变成蝴蝶', 'more_BLC_4_line': '来来回回在玩捉蝴蝶般穿梭'}\n",
      "{'Melody': '8', 'Length': '9', 'Keyword': '月亮', 'Chatgpt': '月亮轻指柔情盈怀香', 'MT-based': '月亮啊月亮月亮啊月', 'SongNet': '在我心上是否感动你', 'smBART3_4_line': '月亮挂在晴朗的天空', 'less_BLC_4_line': '你看那弯弯的月亮啊', 'more_BLC_4_line': '你看那弯弯的月亮啊'}\n",
      "{'Melody': '9', 'Length': '8', 'Keyword': '笑容', 'Chatgpt': '笑容一抹春风温润', 'MT-based': '笑容里有你也有我', 'SongNet': '像玫瑰般温柔太阳', 'smBART3_4_line': '谁的笑容谁的缠绵', 'less_BLC_4_line': '谁的模样谁的笑容', 'more_BLC_4_line': '谁的疲倦谁的笑容'}\n",
      "{'Melody': '9', 'Length': '7', 'Keyword': '生活', 'Chatgpt': '生活是曲折旅程', 'MT-based': '生活就是这么样', 'SongNet': '带我到天涯海角', 'smBART3_4_line': '面对这生活每天', 'less_BLC_4_line': '面对这些和生活', 'more_BLC_4_line': '面对生活才洒脱'}\n",
      "{'Melody': '9', 'Length': '10', 'Keyword': '玫瑰', 'Chatgpt': '玫瑰绽放芳香芬芳飘散', 'MT-based': '玫瑰的香味是那么的浓', 'SongNet': '我们俩生活一路不停靠', 'smBART3_4_line': '没有征服的玫瑰已远去', 'less_BLC_4_line': '玫瑰花谢了能把谁挽留', 'more_BLC_4_line': '连眼泪和果实也如玫瑰'}\n",
      "{'Melody': '9', 'Length': '9', 'Keyword': '太阳', 'Chatgpt': '太阳温暖照耀大地明', 'MT-based': '太阳啊太阳我的太阳', 'SongNet': '你的笑容灿烂又瞬间', 'smBART3_4_line': '就像那托付太阳的吻', 'less_BLC_4_line': '别再哭看那太阳落了', 'more_BLC_4_line': '来又去都是太阳走了'}\n",
      "{'Melody': '10', 'Length': '13', 'Keyword': '缘分', 'Chatgpt': '缘分相聚绵绵线上缱绻联系离', 'MT-based': '缘分让我们相遇相识相知相惜', 'SongNet': '这缘分是你的手足够让我着迷', 'smBART3_4_line': '原来距离是爱情和缘分来的啊', 'less_BLC_4_line': '没缘分没工作没钱来娶别人啊', 'more_BLC_4_line': '才能够从命中和轮回的缘分里'}\n",
      "{'Melody': '10', 'Length': '8', 'Keyword': '勇气', 'Chatgpt': '勇气舍得担当风雨', 'MT-based': '勇气是为自己鼓掌', 'SongNet': '谁能拿给我勇气说', 'smBART3_4_line': '拿得起勇气和执着', 'less_BLC_4_line': '没鼓足勇气才明白', 'more_BLC_4_line': '谁没有绝望和逃离'}\n",
      "{'Melody': '10', 'Length': '8', 'Keyword': '白云', 'Chatgpt': '白云悠然自在飘舞', 'MT-based': '白云在天空中飘荡', 'SongNet': '就像白云一样来去', 'smBART3_4_line': '映红了白云在飘荡', 'less_BLC_4_line': '像云的白云在飘荡', 'more_BLC_4_line': '像白云围绕在天边'}\n",
      "{'Melody': '10', 'Length': '9', 'Keyword': '天空', 'Chatgpt': '天空蓝天际云飞翔遥', 'MT-based': '天空是一片蔚蓝的蓝', 'SongNet': '这天空可以捉摸不定', 'smBART3_4_line': '蓝蓝的天和绿绿的天', 'less_BLC_4_line': '为什么他站在天空下', 'more_BLC_4_line': '晴朗的天空都看得见'}\n",
      "{'Melody': '11', 'Length': '8', 'Keyword': '感觉', 'Chatgpt': '感觉莫测心动悸惊', 'MT-based': '感觉是那么的强烈', 'SongNet': '用梦想感觉那么好', 'smBART3_4_line': '连那痛都当没感觉', 'less_BLC_4_line': '谁都说这没啥感觉', 'more_BLC_4_line': '别再为爱而感觉累'}\n",
      "{'Melody': '11', 'Length': '7', 'Keyword': '梦想', 'Chatgpt': '梦想如影随行游', 'MT-based': '梦想就在不远处', 'SongNet': '那眼睛却最明白', 'smBART3_4_line': '人来又人去梦想', 'less_BLC_4_line': '谁能让谁让梦想', 'more_BLC_4_line': '谁还为谁在梦想'}\n",
      "{'Melody': '11', 'Length': '9', 'Keyword': '眼泪', 'Chatgpt': '眼泪沉默落离别露雨', 'MT-based': '眼泪是为自己而流淌', 'SongNet': '眼泪已停不下的依赖', 'smBART3_4_line': '哭到哭完我也流眼泪', 'less_BLC_4_line': '哭过笑过我也没眼泪', 'more_BLC_4_line': '谁又会陪着你流眼泪'}\n",
      "{'Melody': '11', 'Length': '7', 'Keyword': '眼睛', 'Chatgpt': '眼睛星点闪烁光', 'MT-based': '闭上眼睛看一看', 'SongNet': '原来早该不在乎', 'smBART3_4_line': '别让我揉揉眼睛', 'less_BLC_4_line': '谁说谁人没眼睛', 'more_BLC_4_line': '哭到眼睛红又圆'}\n",
      "{'Melody': '12', 'Length': '8', 'Keyword': '人生', 'Chatgpt': '人生曲折坎峰谷路', 'MT-based': '人生有太多的无奈', 'SongNet': '一个人笑一个人生', 'smBART3_4_line': '人生在世别无它求', 'less_BLC_4_line': '才发现漫长人生哦', 'more_BLC_4_line': '谁知道漫长人生难'}\n",
      "{'Melody': '12', 'Length': '9', 'Keyword': '心情', 'Chatgpt': '心情起落波涟情感深', 'MT-based': '心情总是不由自主的', 'SongNet': '一个人心情飘在雨中', 'smBART3_4_line': '让这心情回到暖暖的', 'less_BLC_4_line': '让心情和眼睛更鲜艳', 'more_BLC_4_line': '是期待和难过的表情'}\n",
      "{'Melody': '12', 'Length': '9', 'Keyword': '阳光', 'Chatgpt': '阳光灿烂暖暖滋养心', 'MT-based': '阳光的温暖照在我心', 'SongNet': '你用微笑迎接阳光走', 'smBART3_4_line': '迎来幸福的一束阳光', 'less_BLC_4_line': '连阳光和你相互照耀', 'more_BLC_4_line': '和阳光连着心跳加速'}\n",
      "{'Melody': '12', 'Length': '7', 'Keyword': '微笑', 'Chatgpt': '微笑满容春风柔', 'MT-based': '你的微笑你的好', 'SongNet': '我要把心情摘尽', 'smBART3_4_line': '把你给的微笑留', 'less_BLC_4_line': '给我你的微笑和', 'more_BLC_4_line': '谁能给谁微笑呢'}\n"
     ]
    }
   ],
   "source": [
    "import csv\n",
    "\n",
    "def load_csv_as_list_of_dicts(file_path):\n",
    "    data = []\n",
    "    with open(file_path, 'r', newline='', encoding='utf-8') as csvfile:\n",
    "        reader = csv.DictReader(csvfile)\n",
    "        for row in reader:\n",
    "            data.append(dict(row))  # Convert ordered dictionary to regular dictionary\n",
    "    return data\n",
    "\n",
    "# Replace 'file_path' with the path to the CSV file\n",
    "file_path = '6_systems_output.csv'\n",
    "data_from_csv = load_csv_as_list_of_dicts(file_path)\n",
    "\n",
    "print(\"Data in the desired format:\")\n",
    "for row in data_from_csv:\n",
    "    print(row)\n"
   ]
  },
  {
   "cell_type": "code",
   "execution_count": 24,
   "id": "8b511000-b5b4-445e-bcf8-38872a93ddbb",
   "metadata": {},
   "outputs": [],
   "source": [
    "system_melody_text = dict()\n",
    "with open(\"6_systems_output.csv\",\"r\") as fin:\n",
    "    for line in fin.readlines()[1:]:\n",
    "        line = line.strip()\n",
    "        line = line.split(\",\")\n",
    "        melody,length, keyword, chatgpt,mt_based,songnet,sm3,less_blc,more_blc = line[0],line[1],line[2],line[3],line[4],line[5],line[6],line[7],line[8]\n",
    "        "
   ]
  },
  {
   "cell_type": "code",
   "execution_count": 19,
   "id": "fedab35a-576b-493a-b789-550c69f109c1",
   "metadata": {},
   "outputs": [
    {
     "name": "stdout",
     "output_type": "stream",
     "text": [
      "Melody,Length,Keyword,Chatgpt,MT-based,SongNet,smBART3_4_line,less_BLC_4_line,more_BLC_4_line\n",
      "1,9,结局,历经沧浪情依孤岛留,结局却让我如此着迷,男人的心底没有道理,结局一揭开就泪在流,没留下一句话是结局,明知道注定是这结局\n",
      "1,6,心底,涌动深藏情意,心底最深的痛,城市孤单安静,爱却埋在心底,却又埋在心底,都藏于她心底\n",
      "1,8,城市,灯火闪烁车潮嘈杂,城市里有你也有我,结局是错的好认真,城市之痛四面八方,从城市到山那一边,从城市到山中穿梭\n",
      "1,7,男人,刚强坚韧肩膀铸,男人啊你听我说,谁说一定要面对,男人还能做什么,哦哦哦哦男男人,别和人谈心打扰\n",
      "2,8,故事,旧事经过而转变新,故事里的故事很美,谁能像电话般接下,故事重写年年蹉跎,故事完了还没续集,故事完了还没说完\n",
      "2,7,世界,辽阔多彩千种风,世界变得更辽阔,从故事听到他说,世界再没什么留,让爱从眼前走来,要让谁感觉我来\n",
      "2,9,电话,疏离通话心纽连接符,电话响了你又接了谁,不再听你说话的世界,还没和你通电话呢喃,还没和你通电话以前,谁人陪我看飞翔彩霞\n",
      "2,6,流星,飞逝刹那瞬间,流星划过天际,那流星的语言,流星带不回我,流星划下来了,流星划下来啦\n",
      "3,7,回忆,沉醉光影心深溢,那些甜蜜的回忆,风吹过记忆的黑,将要重演的回忆,让坚强的回忆飞,那幸福的回忆中\n"
     ]
    }
   ],
   "source": [
    "!head 6_systems_output.csv"
   ]
  },
  {
   "cell_type": "code",
   "execution_count": null,
   "id": "7aeaee08-490b-419e-8169-60908545bdc6",
   "metadata": {},
   "outputs": [],
   "source": []
  }
 ],
 "metadata": {
  "kernelspec": {
   "display_name": "Python 3 (ipykernel)",
   "language": "python",
   "name": "python3"
  },
  "language_info": {
   "codemirror_mode": {
    "name": "ipython",
    "version": 3
   },
   "file_extension": ".py",
   "mimetype": "text/x-python",
   "name": "python",
   "nbconvert_exporter": "python",
   "pygments_lexer": "ipython3",
   "version": "3.8.18"
  }
 },
 "nbformat": 4,
 "nbformat_minor": 5
}
